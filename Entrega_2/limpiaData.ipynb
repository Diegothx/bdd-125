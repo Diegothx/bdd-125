{
 "cells": [
  {
   "cell_type": "code",
   "execution_count": 51,
   "id": "d980b4e4",
   "metadata": {},
   "outputs": [],
   "source": [
    "import pandas as pd"
   ]
  },
  {
   "cell_type": "code",
   "execution_count": 22,
   "id": "89b5c081",
   "metadata": {},
   "outputs": [],
   "source": [
    "import numpy as np"
   ]
  },
  {
   "cell_type": "code",
   "execution_count": 2,
   "id": "e9f8639f",
   "metadata": {},
   "outputs": [],
   "source": [
    "import os"
   ]
  },
  {
   "cell_type": "code",
   "execution_count": 50,
   "id": "a9269421",
   "metadata": {},
   "outputs": [],
   "source": [
    "def drop_null_columns(df):\n",
    "    new_df = df.copy()\n",
    "    for column, nulls in (new_df.isna().sum()/len(new_df)).to_dict().items():\n",
    "        if nulls==1:\n",
    "            new_df = new_df.drop(columns=[column])\n",
    "    return new_df"
   ]
  },
  {
   "cell_type": "code",
   "execution_count": 93,
   "id": "978d4178",
   "metadata": {},
   "outputs": [],
   "source": [
    "def get_null_data(df):\n",
    "    return df.isna().sum()/len(df)"
   ]
  },
  {
   "cell_type": "code",
   "execution_count": 52,
   "id": "ac38806e",
   "metadata": {},
   "outputs": [
    {
     "data": {
      "text/plain": [
       "['.DS_Store',\n",
       " 'genero_subgenero.csv',\n",
       " 'multimedia.csv',\n",
       " 'pagos_v2.csv',\n",
       " 'proveedores.csv',\n",
       " 'subscripciones.csv',\n",
       " 'usuarios.csv',\n",
       " 'visualizaciones.csv']"
      ]
     },
     "execution_count": 52,
     "metadata": {},
     "output_type": "execute_result"
    }
   ],
   "source": [
    "os.listdir(\"data_original\")"
   ]
  },
  {
   "cell_type": "code",
   "execution_count": 54,
   "id": "c2a49b21",
   "metadata": {},
   "outputs": [],
   "source": [
    "raw_dfs = {}\n",
    "new_dfs = {}\n",
    "for file_name in os.listdir(\"data_original\"):\n",
    "    if \".csv\" in file_name:\n",
    "        raw_dfs[file_name[:-4]] = pd.read_csv(f\"data_original\\\\{file_name}\")"
   ]
  },
  {
   "cell_type": "code",
   "execution_count": 34,
   "id": "e75f639b",
   "metadata": {},
   "outputs": [
    {
     "data": {
      "text/plain": [
       "dict_keys(['genero_subgenero', 'multimedia', 'pagos_v2', 'proveedores', 'subscripciones', 'usuarios', 'visualizaciones'])"
      ]
     },
     "execution_count": 34,
     "metadata": {},
     "output_type": "execute_result"
    }
   ],
   "source": [
    "raw_dfs.keys()"
   ]
  },
  {
   "cell_type": "code",
   "execution_count": 36,
   "id": "3975eb1c",
   "metadata": {},
   "outputs": [
    {
     "data": {
      "text/html": [
       "<div>\n",
       "<style scoped>\n",
       "    .dataframe tbody tr th:only-of-type {\n",
       "        vertical-align: middle;\n",
       "    }\n",
       "\n",
       "    .dataframe tbody tr th {\n",
       "        vertical-align: top;\n",
       "    }\n",
       "\n",
       "    .dataframe thead th {\n",
       "        text-align: right;\n",
       "    }\n",
       "</style>\n",
       "<table border=\"1\" class=\"dataframe\">\n",
       "  <thead>\n",
       "    <tr style=\"text-align: right;\">\n",
       "      <th></th>\n",
       "      <th>pid</th>\n",
       "      <th>sid</th>\n",
       "      <th>cid</th>\n",
       "      <th>titulo</th>\n",
       "      <th>duracion</th>\n",
       "      <th>clasificacion</th>\n",
       "      <th>puntuacion</th>\n",
       "      <th>año</th>\n",
       "      <th>numero</th>\n",
       "      <th>serie</th>\n",
       "      <th>genero</th>\n",
       "    </tr>\n",
       "  </thead>\n",
       "  <tbody>\n",
       "    <tr>\n",
       "      <th>0</th>\n",
       "      <td>NaN</td>\n",
       "      <td>1.0</td>\n",
       "      <td>2.0</td>\n",
       "      <td>Episode 2</td>\n",
       "      <td>66</td>\n",
       "      <td>R</td>\n",
       "      <td>8.0</td>\n",
       "      <td>2019</td>\n",
       "      <td>1.0</td>\n",
       "      <td>Sex Education</td>\n",
       "      <td>Drama</td>\n",
       "    </tr>\n",
       "    <tr>\n",
       "      <th>1</th>\n",
       "      <td>74.0</td>\n",
       "      <td>NaN</td>\n",
       "      <td>NaN</td>\n",
       "      <td>The Boxtrolls</td>\n",
       "      <td>96</td>\n",
       "      <td>NC-17</td>\n",
       "      <td>1.0</td>\n",
       "      <td>2014</td>\n",
       "      <td>NaN</td>\n",
       "      <td>NaN</td>\n",
       "      <td>Comedia</td>\n",
       "    </tr>\n",
       "    <tr>\n",
       "      <th>2</th>\n",
       "      <td>6.0</td>\n",
       "      <td>NaN</td>\n",
       "      <td>NaN</td>\n",
       "      <td>Fahrenheit 451</td>\n",
       "      <td>100</td>\n",
       "      <td>G</td>\n",
       "      <td>3.0</td>\n",
       "      <td>2018</td>\n",
       "      <td>NaN</td>\n",
       "      <td>NaN</td>\n",
       "      <td>Ciencia ficción apocalíptica</td>\n",
       "    </tr>\n",
       "    <tr>\n",
       "      <th>3</th>\n",
       "      <td>NaN</td>\n",
       "      <td>20.0</td>\n",
       "      <td>124.0</td>\n",
       "      <td>Las aventuras de Supergirl</td>\n",
       "      <td>40</td>\n",
       "      <td>G</td>\n",
       "      <td>6.4</td>\n",
       "      <td>2015</td>\n",
       "      <td>2.0</td>\n",
       "      <td>Supergirl</td>\n",
       "      <td>Ciencia ficción</td>\n",
       "    </tr>\n",
       "    <tr>\n",
       "      <th>4</th>\n",
       "      <td>NaN</td>\n",
       "      <td>4.0</td>\n",
       "      <td>63.0</td>\n",
       "      <td>El viajero</td>\n",
       "      <td>20</td>\n",
       "      <td>PG-13</td>\n",
       "      <td>9.8</td>\n",
       "      <td>2007</td>\n",
       "      <td>7.0</td>\n",
       "      <td>Naruto Shippuden</td>\n",
       "      <td>Aventura</td>\n",
       "    </tr>\n",
       "  </tbody>\n",
       "</table>\n",
       "</div>"
      ],
      "text/plain": [
       "    pid   sid    cid                      titulo  duracion clasificacion  \\\n",
       "0   NaN   1.0    2.0                   Episode 2        66             R   \n",
       "1  74.0   NaN    NaN               The Boxtrolls        96         NC-17   \n",
       "2   6.0   NaN    NaN              Fahrenheit 451       100             G   \n",
       "3   NaN  20.0  124.0  Las aventuras de Supergirl        40             G   \n",
       "4   NaN   4.0   63.0                  El viajero        20         PG-13   \n",
       "\n",
       "   puntuacion   año  numero             serie                        genero  \n",
       "0         8.0  2019     1.0     Sex Education                         Drama  \n",
       "1         1.0  2014     NaN               NaN                       Comedia  \n",
       "2         3.0  2018     NaN               NaN  Ciencia ficción apocalíptica  \n",
       "3         6.4  2015     2.0         Supergirl               Ciencia ficción  \n",
       "4         9.8  2007     7.0  Naruto Shippuden                      Aventura  "
      ]
     },
     "execution_count": 36,
     "metadata": {},
     "output_type": "execute_result"
    }
   ],
   "source": [
    "raw_dfs[\"multimedia\"].head()"
   ]
  },
  {
   "cell_type": "code",
   "execution_count": 95,
   "id": "f682ab52",
   "metadata": {
    "scrolled": true
   },
   "outputs": [
    {
     "data": {
      "text/plain": [
       "genero              0.00\n",
       "nombre_subgenero    0.75\n",
       "dtype: float64"
      ]
     },
     "execution_count": 95,
     "metadata": {},
     "output_type": "execute_result"
    }
   ],
   "source": [
    "get_null_data(raw_dfs[\"genero_subgenero\"])"
   ]
  },
  {
   "cell_type": "code",
   "execution_count": 195,
   "id": "2517ffc0",
   "metadata": {},
   "outputs": [],
   "source": [
    "genero_subgenero = raw_dfs[\"genero_subgenero\"][~raw_dfs[\"genero_subgenero\"][\"nombre_subgenero\"].isnull()]\n",
    "genero_subgenero.drop_duplicates().sort_values(by=[\"genero\"]).to_csv(\"data_limpia\\\\genero_subgenero.csv\", index = False)"
   ]
  },
  {
   "cell_type": "code",
   "execution_count": 198,
   "id": "223db87b",
   "metadata": {},
   "outputs": [],
   "source": [
    "generos = raw_dfs[\"genero_subgenero\"][\"genero\"]\n",
    "generos.drop_duplicates().sort_values().to_csv(\"data_limpia\\\\generos.csv\", index = False)"
   ]
  },
  {
   "cell_type": "code",
   "execution_count": 86,
   "id": "99652693",
   "metadata": {},
   "outputs": [
    {
     "data": {
      "text/plain": [
       "pid              0.400885\n",
       "sid              0.215044\n",
       "cid              0.215044\n",
       "titulo           0.000000\n",
       "duracion         0.000000\n",
       "clasificacion    0.000000\n",
       "puntuacion       0.000000\n",
       "año              0.000000\n",
       "numero           0.215044\n",
       "serie            0.215044\n",
       "genero           0.002655\n",
       "dtype: float64"
      ]
     },
     "execution_count": 86,
     "metadata": {},
     "output_type": "execute_result"
    }
   ],
   "source": [
    "get_null_data(raw_dfs[\"multimedia\"])"
   ]
  },
  {
   "cell_type": "code",
   "execution_count": null,
   "id": "d3486a57",
   "metadata": {},
   "outputs": [],
   "source": [
    "peliculas = drop_null_columns(raw_dfs[\"multimedia\"][~raw_dfs[\"multimedia\"][\"pid\"].isnull()])\n",
    "peliculas.rename(columns={'pid':'id'}, inplace=True)\n",
    "peliculas[['id']]=peliculas[['id']].astype(int)\n",
    "peliculas.drop(['genero'], axis=1).drop_duplicates().sort_values(by=[\"id\"]).to_csv(\"data_limpia\\\\peliculas.csv\", index = False)"
   ]
  },
  {
   "cell_type": "code",
   "execution_count": 104,
   "id": "4fffa9af",
   "metadata": {},
   "outputs": [],
   "source": [
    "peliculas_genero = drop_null_columns(raw_dfs[\"multimedia\"][~raw_dfs[\"multimedia\"][\"pid\"].isnull()])\n",
    "peliculas_genero.rename(columns={'pid':'id_pelicula'}, inplace=True)\n",
    "peliculas_genero[['id_pelicula']]=peliculas_genero[['id_pelicula']].astype(int)\n",
    "peliculas_genero.drop(['titulo','duracion','clasificacion','puntuacion','año'], axis=1).drop_duplicates().sort_values(by=[\"id_pelicula\"]).to_csv(\"data_limpia\\\\peliculas_genero.csv\", index = False)\n"
   ]
  },
  {
   "cell_type": "code",
   "execution_count": 97,
   "id": "0047652a",
   "metadata": {},
   "outputs": [],
   "source": [
    "series = drop_null_columns(raw_dfs[\"multimedia\"][~raw_dfs[\"multimedia\"][\"sid\"].isnull()])\n",
    "series.rename(columns={'serie':'nombre','sid':'id'}, inplace=True)\n",
    "series[['id']]=series[['id']].astype(int)\n",
    "series.drop(['cid','numero','duracion','titulo','genero'], axis=1).drop_duplicates().sort_values(by=[\"id\"]).to_csv(\"data_limpia\\\\series.csv\", index = False)"
   ]
  },
  {
   "cell_type": "code",
   "execution_count": 109,
   "id": "5555c43e",
   "metadata": {},
   "outputs": [],
   "source": [
    "series_genero = drop_null_columns(raw_dfs[\"multimedia\"][~raw_dfs[\"multimedia\"][\"sid\"].isnull()])\n",
    "series_genero.rename(columns={'sid':'id_serie'}, inplace=True)\n",
    "series_genero[['id_serie']]=series_genero[['id_serie']].astype(int)\n",
    "series_genero.drop(['cid','clasificacion','titulo','duracion','numero','puntuacion','año','serie'], axis=1).drop_duplicates().sort_values(by=[\"id_serie\"]).to_csv(\"data_limpia\\\\series_genero.csv\", index = False)"
   ]
  },
  {
   "cell_type": "code",
   "execution_count": null,
   "id": "a2da2b17",
   "metadata": {},
   "outputs": [],
   "source": [
    "capitulos =  drop_null_columns(raw_dfs[\"multimedia\"][~raw_dfs[\"multimedia\"][\"cid\"].isnull()])\n",
    "capitulos.rename(columns={'cid':'id','sid':'serie_id'}, inplace=True)\n",
    "capitulos[['serie_id','id','numero']]=capitulos[['serie_id','id','numero']].astype(int)\n",
    "capitulos = capitulos[['id','serie_id','titulo','duracion','numero','serie']]\n",
    "capitulos.drop_duplicates().sort_values(by=[\"id\"]).to_csv(\"data_limpia\\\\capitulos.csv\", index = False)"
   ]
  },
  {
   "cell_type": "code",
   "execution_count": 87,
   "id": "73843724",
   "metadata": {},
   "outputs": [
    {
     "data": {
      "text/plain": [
       "pago_id    0.000000\n",
       "monto      0.000000\n",
       "fecha      0.000000\n",
       "uid        0.000000\n",
       "subs_id    0.544540\n",
       "pid        5.744253\n",
       "pro_id     5.744253\n",
       "dtype: float64"
      ]
     },
     "execution_count": 87,
     "metadata": {},
     "output_type": "execute_result"
    }
   ],
   "source": [
    "get_null_data(raw_dfs[\"pagos_v2\"])"
   ]
  },
  {
   "cell_type": "code",
   "execution_count": 88,
   "id": "133bd5b3",
   "metadata": {},
   "outputs": [
    {
     "data": {
      "text/plain": [
       "id                0.000000\n",
       "nombre            0.000000\n",
       "costo             0.000000\n",
       "sid               1.242816\n",
       "pid               0.380747\n",
       "precio            1.406609\n",
       "disponibilidad    1.406609\n",
       "dtype: float64"
      ]
     },
     "execution_count": 88,
     "metadata": {},
     "output_type": "execute_result"
    }
   ],
   "source": [
    "get_null_data(raw_dfs[\"proveedores\"])"
   ]
  },
  {
   "cell_type": "code",
   "execution_count": 202,
   "id": "0d084a80",
   "metadata": {},
   "outputs": [],
   "source": [
    "proveedoresLimpios = raw_dfs[\"proveedores\"].loc[:,[\"id\",\"nombre\",\"costo\"]]\n",
    "proveedoresLimpios[['id']]=proveedoresLimpios[['id']].astype(int)\n",
    "proveedoresLimpios.drop_duplicates().sort_values(by=[\"id\"]).to_csv(\"data_limpia\\\\proveedores.csv\", index = False)\n"
   ]
  },
  {
   "cell_type": "code",
   "execution_count": 204,
   "id": "c63f39d7",
   "metadata": {},
   "outputs": [],
   "source": [
    "pelicula_arriendo =  raw_dfs[\"proveedores\"].loc[pd.notna(raw_dfs[\"proveedores\"]['disponibilidad']),[\"id\",\"pid\",\"precio\",\"disponibilidad\"]]\n",
    "pelicula_arriendo.columns = [\"id_proveedor\",\"id_pelicula\",\"precio\",\"duracion_arriendo\"] \n",
    "pelicula_arriendo[['precio',\"duracion_arriendo\"]]=pelicula_arriendo[['precio',\"duracion_arriendo\"]].astype(int)\n",
    "pelicula_arriendo.drop_duplicates().sort_values(by=[\"id_proveedor\",\"id_pelicula\"]).reset_index(drop=True).to_csv(\"data_limpia\\\\pelicula_arriendo.csv\", index = False)\n"
   ]
  },
  {
   "cell_type": "code",
   "execution_count": 211,
   "id": "24045127",
   "metadata": {},
   "outputs": [],
   "source": [
    "serie_proveedor = drop_null_columns(raw_dfs[\"proveedores\"][~raw_dfs[\"proveedores\"][\"sid\"].isnull()])\n",
    "serie_proveedor.rename(columns={'id':'id_proveedor','sid':'id_serie'}, inplace=True)\n",
    "serie_proveedor[['id_serie']]=serie_proveedor[['id_serie']].astype(int)\n",
    "serie_proveedor = serie_proveedor[['id_proveedor','id_serie']]\n",
    "serie_proveedor.drop_duplicates().sort_values(by=[\"id_proveedor\",\"id_serie\"]).to_csv(\"data_limpia\\\\serie_proveedor.csv\", index = False)\n"
   ]
  },
  {
   "cell_type": "code",
   "execution_count": 213,
   "id": "67f1ea8e",
   "metadata": {},
   "outputs": [],
   "source": [
    "pelicula_proveedor = drop_null_columns(raw_dfs[\"proveedores\"][~raw_dfs[\"proveedores\"][\"pid\"].isnull()])\n",
    "\n",
    "pelicula_proveedor  = drop_null_columns(pelicula_proveedor[~pelicula_proveedor[\"precio\"].isnull()])\n",
    "\n",
    "pelicula_proveedor.rename(columns={'id':'id_proveedor','pid':'id_pelicula'}, inplace=True)\n",
    "pelicula_proveedor[['id_pelicula']]=pelicula_proveedor[['id_pelicula']].astype(int)\n",
    "pelicula_proveedor = pelicula_proveedor[['id_proveedor','id_pelicula']]\n",
    "pelicula_proveedor.drop_duplicates().sort_values(by=[\"id_proveedor\",\"id_pelicula\"]).to_csv(\"data_limpia\\\\pelicula_proveedor.csv\", index = False)\n"
   ]
  },
  {
   "cell_type": "code",
   "execution_count": 89,
   "id": "86487185",
   "metadata": {},
   "outputs": [
    {
     "data": {
      "text/plain": [
       "id               0.000000\n",
       "estado           0.000000\n",
       "fecha_inicio     0.000000\n",
       "pro_id           0.000000\n",
       "uid              0.000000\n",
       "fecha_termino    0.418103\n",
       "proveedor        0.000000\n",
       "costo            0.000000\n",
       "dtype: float64"
      ]
     },
     "execution_count": 89,
     "metadata": {},
     "output_type": "execute_result"
    }
   ],
   "source": [
    "get_null_data(raw_dfs[\"subscripciones\"])"
   ]
  },
  {
   "cell_type": "code",
   "execution_count": 90,
   "id": "2261b4a9",
   "metadata": {},
   "outputs": [
    {
     "data": {
      "text/plain": [
       "id          0.0\n",
       "nombre      0.0\n",
       "mail        0.0\n",
       "password    0.0\n",
       "username    0.0\n",
       "dtype: float64"
      ]
     },
     "execution_count": 90,
     "metadata": {},
     "output_type": "execute_result"
    }
   ],
   "source": [
    "get_null_data(raw_dfs[\"usuarios\"])"
   ]
  },
  {
   "cell_type": "code",
   "execution_count": null,
   "id": "095a7a20",
   "metadata": {},
   "outputs": [],
   "source": [
    "usuarios = raw_dfs[\"usuarios\"] \n",
    "usuarios.sort_values(by=[\"id\"]).to_csv(\"data_limpia\\\\usuarios.csv\", index = False)"
   ]
  },
  {
   "cell_type": "code",
   "execution_count": 96,
   "id": "e661c9cd",
   "metadata": {},
   "outputs": [
    {
     "data": {
      "text/plain": [
       "uid      0.000000\n",
       "pid      0.653107\n",
       "cid      0.346893\n",
       "fecha    0.000000\n",
       "dtype: float64"
      ]
     },
     "execution_count": 96,
     "metadata": {},
     "output_type": "execute_result"
    }
   ],
   "source": [
    "get_null_data(raw_dfs[\"visualizaciones\"])"
   ]
  }
 ],
 "metadata": {
  "kernelspec": {
   "display_name": "Python 3 (ipykernel)",
   "language": "python",
   "name": "python3"
  },
  "language_info": {
   "codemirror_mode": {
    "name": "ipython",
    "version": 3
   },
   "file_extension": ".py",
   "mimetype": "text/x-python",
   "name": "python",
   "nbconvert_exporter": "python",
   "pygments_lexer": "ipython3",
   "version": "3.9.7"
  }
 },
 "nbformat": 4,
 "nbformat_minor": 5
}
