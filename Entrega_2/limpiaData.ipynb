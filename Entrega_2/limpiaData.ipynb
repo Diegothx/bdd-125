{
 "cells": [
  {
   "cell_type": "code",
   "execution_count": 2,
   "id": "d980b4e4",
   "metadata": {},
   "outputs": [],
   "source": [
    "import pandas as pd"
   ]
  },
  {
   "cell_type": "code",
   "execution_count": 3,
   "id": "89b5c081",
   "metadata": {},
   "outputs": [],
   "source": [
    "import numpy as np"
   ]
  },
  {
   "cell_type": "code",
   "execution_count": 4,
   "id": "e9f8639f",
   "metadata": {},
   "outputs": [],
   "source": [
    "import os"
   ]
  },
  {
   "cell_type": "code",
   "execution_count": 5,
   "id": "a9269421",
   "metadata": {},
   "outputs": [],
   "source": [
    "def drop_null_columns(df):\n",
    "    new_df = df.copy()\n",
    "    for column, nulls in (new_df.isna().sum()/len(new_df)).to_dict().items():\n",
    "        if nulls==1:\n",
    "            new_df = new_df.drop(columns=[column])\n",
    "    return new_df"
   ]
  },
  {
   "cell_type": "code",
   "execution_count": 6,
   "id": "978d4178",
   "metadata": {},
   "outputs": [],
   "source": [
    "def get_null_data(df):\n",
    "    return df.isna().sum()/len(df)"
   ]
  },
  {
   "cell_type": "code",
   "execution_count": 6,
   "id": "ac38806e",
   "metadata": {},
   "outputs": [
    {
     "data": {
      "text/plain": [
       "['.DS_Store',\n",
       " 'genero_subgenero.csv',\n",
       " 'multimedia.csv',\n",
       " 'pagos_v2.csv',\n",
       " 'proveedores.csv',\n",
       " 'subscripciones.csv',\n",
       " 'usuarios.csv',\n",
       " 'visualizaciones.csv']"
      ]
     },
     "execution_count": 6,
     "metadata": {},
     "output_type": "execute_result"
    }
   ],
   "source": [
    "os.listdir(\"data_original\")"
   ]
  },
  {
   "cell_type": "code",
   "execution_count": 7,
   "id": "c2a49b21",
   "metadata": {},
   "outputs": [],
   "source": [
    "raw_dfs = {} \n",
    "for file_name in os.listdir(\"data_original\"):\n",
    "    if \".csv\" in file_name:\n",
    "        raw_dfs[file_name[:-4]] = pd.read_csv(f\"data_original\\\\{file_name}\")"
   ]
  },
  {
   "cell_type": "code",
   "execution_count": 10,
   "id": "e75f639b",
   "metadata": {},
   "outputs": [
    {
     "data": {
      "text/plain": [
       "dict_keys(['genero_subgenero', 'multimedia', 'pagos_v2', 'proveedores', 'subscripciones', 'usuarios', 'visualizaciones'])"
      ]
     },
     "execution_count": 10,
     "metadata": {},
     "output_type": "execute_result"
    }
   ],
   "source": [
    "raw_dfs.keys()"
   ]
  },
  {
   "cell_type": "code",
   "execution_count": 95,
   "id": "f682ab52",
   "metadata": {
    "scrolled": true
   },
   "outputs": [
    {
     "data": {
      "text/plain": [
       "genero              0.00\n",
       "nombre_subgenero    0.75\n",
       "dtype: float64"
      ]
     },
     "execution_count": 95,
     "metadata": {},
     "output_type": "execute_result"
    }
   ],
   "source": [
    "get_null_data(raw_dfs[\"genero_subgenero\"])"
   ]
  },
  {
   "cell_type": "code",
   "execution_count": 195,
   "id": "2517ffc0",
   "metadata": {},
   "outputs": [],
   "source": [
    "genero_subgenero = raw_dfs[\"genero_subgenero\"][~raw_dfs[\"genero_subgenero\"][\"nombre_subgenero\"].isnull()]\n",
    "genero_subgenero.drop_duplicates().sort_values(by=[\"genero\"]).to_csv(\"data_limpia\\\\genero_subgenero.csv\", index = False)"
   ]
  },
  {
   "cell_type": "code",
   "execution_count": 198,
   "id": "223db87b",
   "metadata": {},
   "outputs": [],
   "source": [
    "generos = raw_dfs[\"genero_subgenero\"][\"genero\"]\n",
    "generos.drop_duplicates().sort_values().to_csv(\"data_limpia\\\\generos.csv\", index = False)"
   ]
  },
  {
   "cell_type": "code",
   "execution_count": 31,
   "metadata": {},
   "outputs": [
    {
     "name": "stdout",
     "output_type": "stream",
     "text": [
      "nan\n"
     ]
    }
   ],
   "source": [
    "generos = raw_dfs[\"genero_subgenero\"][\"genero\"].drop_duplicates()\n",
    "generos_extra = raw_dfs[\"multimedia\"][\"genero\"].drop_duplicates()\n",
    "for genero_extra in generos_extra:\n",
    "    if(genero_extra not in generos.values):\n",
    "        print(genero_extra)"
   ]
  },
  {
   "cell_type": "code",
   "execution_count": 86,
   "id": "99652693",
   "metadata": {},
   "outputs": [
    {
     "data": {
      "text/plain": [
       "pid              0.400885\n",
       "sid              0.215044\n",
       "cid              0.215044\n",
       "titulo           0.000000\n",
       "duracion         0.000000\n",
       "clasificacion    0.000000\n",
       "puntuacion       0.000000\n",
       "año              0.000000\n",
       "numero           0.215044\n",
       "serie            0.215044\n",
       "genero           0.002655\n",
       "dtype: float64"
      ]
     },
     "execution_count": 86,
     "metadata": {},
     "output_type": "execute_result"
    }
   ],
   "source": [
    "get_null_data(raw_dfs[\"multimedia\"])"
   ]
  },
  {
   "cell_type": "code",
   "execution_count": null,
   "id": "d3486a57",
   "metadata": {},
   "outputs": [],
   "source": [
    "peliculas = drop_null_columns(raw_dfs[\"multimedia\"][~raw_dfs[\"multimedia\"][\"pid\"].isnull()])\n",
    "peliculas.rename(columns={'pid':'id'}, inplace=True)\n",
    "peliculas[['id']]=peliculas[['id']].astype(int)\n",
    "peliculas.drop(['genero'], axis=1).drop_duplicates().sort_values(by=[\"id\"]).to_csv(\"data_limpia\\\\peliculas.csv\", index = False)"
   ]
  },
  {
   "cell_type": "code",
   "execution_count": 104,
   "id": "4fffa9af",
   "metadata": {},
   "outputs": [],
   "source": [
    "peliculas_genero = drop_null_columns(raw_dfs[\"multimedia\"][~raw_dfs[\"multimedia\"][\"pid\"].isnull()])\n",
    "peliculas_genero.rename(columns={'pid':'id_pelicula'}, inplace=True)\n",
    "peliculas_genero[['id_pelicula']]=peliculas_genero[['id_pelicula']].astype(int)\n",
    "peliculas_genero.drop(['titulo','duracion','clasificacion','puntuacion','año'], axis=1).drop_duplicates().sort_values(by=[\"id_pelicula\"]).to_csv(\"data_limpia\\\\peliculas_genero.csv\", index = False)\n"
   ]
  },
  {
   "cell_type": "code",
   "execution_count": 97,
   "id": "0047652a",
   "metadata": {},
   "outputs": [],
   "source": [
    "series = drop_null_columns(raw_dfs[\"multimedia\"][~raw_dfs[\"multimedia\"][\"sid\"].isnull()])\n",
    "series.rename(columns={'serie':'nombre','sid':'id'}, inplace=True)\n",
    "series[['id']]=series[['id']].astype(int)\n",
    "series.drop(['cid','numero','duracion','titulo','genero'], axis=1).drop_duplicates().sort_values(by=[\"id\"]).to_csv(\"data_limpia\\\\series.csv\", index = False)"
   ]
  },
  {
   "cell_type": "code",
   "execution_count": 109,
   "id": "5555c43e",
   "metadata": {},
   "outputs": [],
   "source": [
    "series_genero = drop_null_columns(raw_dfs[\"multimedia\"][~raw_dfs[\"multimedia\"][\"sid\"].isnull()])\n",
    "series_genero.rename(columns={'sid':'id_serie'}, inplace=True)\n",
    "series_genero[['id_serie']]=series_genero[['id_serie']].astype(int)\n",
    "series_genero.drop(['cid','clasificacion','titulo','duracion','numero','puntuacion','año','serie'], axis=1).drop_duplicates().sort_values(by=[\"id_serie\"]).to_csv(\"data_limpia\\\\series_genero.csv\", index = False)"
   ]
  },
  {
   "cell_type": "code",
   "execution_count": 9,
   "id": "a2da2b17",
   "metadata": {},
   "outputs": [],
   "source": [
    "capitulos =  drop_null_columns(raw_dfs[\"multimedia\"][~raw_dfs[\"multimedia\"][\"cid\"].isnull()])\n",
    "capitulos.rename(columns={'cid':'id','sid':'serie_id'}, inplace=True)\n",
    "capitulos[['serie_id','id','numero']]=capitulos[['serie_id','id','numero']].astype(int)\n",
    "capitulos = capitulos[['id','serie_id','titulo','duracion','numero']]\n",
    "capitulos.drop_duplicates().sort_values(by=[\"id\"]).to_csv(\"data_limpia\\\\capitulos.csv\", index = False)"
   ]
  },
  {
   "cell_type": "code",
   "execution_count": 12,
   "id": "73843724",
   "metadata": {},
   "outputs": [
    {
     "data": {
      "text/plain": [
       "pago_id    0.000000\n",
       "monto      0.000000\n",
       "fecha      0.000000\n",
       "uid        0.000000\n",
       "subs_id    0.086589\n",
       "pid        0.913411\n",
       "pro_id     0.913411\n",
       "dtype: float64"
      ]
     },
     "execution_count": 12,
     "metadata": {},
     "output_type": "execute_result"
    }
   ],
   "source": [
    "get_null_data(raw_dfs[\"pagos_v2\"])"
   ]
  },
  {
   "cell_type": "code",
   "execution_count": 67,
   "metadata": {},
   "outputs": [],
   "source": [
    "pagos_subscripciones =  drop_null_columns(raw_dfs[\"pagos_v2\"][~raw_dfs[\"pagos_v2\"][\"subs_id\"].isnull()]).drop_duplicates()\n",
    "for sub in pagos_subscripciones[\"subs_id\"]:\n",
    "    if np.unique(pagos_subscripciones[pagos_subscripciones[\"subs_id\"]==sub]['monto'].values).size>1:\n",
    "        print('oh')"
   ]
  },
  {
   "cell_type": "code",
   "execution_count": 118,
   "metadata": {},
   "outputs": [
    {
     "name": "stdout",
     "output_type": "stream",
     "text": [
      "False\n"
     ]
    }
   ],
   "source": [
    "pagos_subscripciones =  drop_null_columns(raw_dfs[\"pagos_v2\"][~raw_dfs[\"pagos_v2\"][\"subs_id\"].isnull()])\n",
    "pagos_subscripciones = pagos_subscripciones.drop(columns=[ 'monto','uid']).drop_duplicates()\n",
    "pagos_subscripciones = pagos_subscripciones.drop(columns=['pago_id'])\n",
    "pagos_subscripciones.rename(columns={'subs_id':'id_subscripcion'}, inplace=True)\n",
    "\n",
    "pagos_subscripciones2 = pagos_subscripciones.drop_duplicates()\n",
    "print(len(pagos_subscripciones) == len(pagos_subscripciones2))\n",
    "for sub in pagos_subscripciones.values:\n",
    "    if sub not in pagos_subscripciones2.values:\n",
    "        print(sub)"
   ]
  },
  {
   "cell_type": "code",
   "execution_count": 11,
   "metadata": {},
   "outputs": [],
   "source": [
    "pagos_subscripciones =  drop_null_columns(raw_dfs[\"pagos_v2\"][~raw_dfs[\"pagos_v2\"][\"subs_id\"].isnull()])\n",
    "#pago_id,monto,fecha,uid,subs_id,pid,pro_id\n",
    "pagos_subscripciones = pagos_subscripciones.drop(columns=['monto','uid']).drop_duplicates().drop_duplicates()\n",
    "pagos_subscripciones.rename(columns={'pago_id':'id','subs_id':'id_subscripcion'}, inplace=True)\n",
    "pagos_subscripciones[['id_subscripcion']] = pagos_subscripciones[['id_subscripcion']].astype(int)\n",
    "pagos_subscripciones.sort_values(by=[\"id\",\"id_subscripcion\",\"fecha\"]).to_csv(\"data_limpia\\\\pagos_subscripciones.csv\", index = False)"
   ]
  },
  {
   "cell_type": "code",
   "execution_count": 103,
   "metadata": {},
   "outputs": [
    {
     "data": {
      "text/plain": [
       "True"
      ]
     },
     "execution_count": 103,
     "metadata": {},
     "output_type": "execute_result"
    }
   ],
   "source": [
    "pagos_arriendos =  drop_null_columns(raw_dfs[\"pagos_v2\"][~raw_dfs[\"pagos_v2\"][\"pid\"].isnull()])\n",
    "pagos_arriendos = pagos_arriendos.drop(columns=['monto']).drop_duplicates()\n",
    "pagos_arriendos.rename(columns={'pago_id':'id','udi':'id_usuario','pid':'id_pelicula','pro_id':'id_proveedor'}, inplace=True)\n",
    "pagos_arriendos[['id_pelicula','id_proveedor']]=pagos_arriendos[['id_pelicula','id_proveedor']].astype(int)\n",
    "\n",
    "pagos_arriendos2 = pagos_arriendos.drop(columns=['id']).drop_duplicates()\n",
    "\n",
    "len(pagos_arriendos.index) == len(pagos_arriendos2.index)"
   ]
  },
  {
   "cell_type": "code",
   "execution_count": 101,
   "metadata": {},
   "outputs": [],
   "source": [
    "pagos_arriendos =  drop_null_columns(raw_dfs[\"pagos_v2\"][~raw_dfs[\"pagos_v2\"][\"pid\"].isnull()])\n",
    "#pago_id,monto,fecha,uid,pid,pro_id\n",
    "pagos_arriendos = pagos_arriendos.drop(columns=['monto','pago_id']).drop_duplicates().drop_duplicates()\n",
    "pagos_arriendos.rename(columns={'uid':'id_usuario','pid':'id_pelicula','pro_id':'id_proveedor'}, inplace=True)\n",
    "pagos_arriendos[['id_pelicula','id_proveedor']]=pagos_arriendos[['id_pelicula','id_proveedor']].astype(int)\n",
    "pagos_arriendos.sort_values(by=[\"id_usuario\",\"fecha\"]).to_csv(\"data_limpia\\\\pagos_arriendos.csv\", index = False)"
   ]
  },
  {
   "cell_type": "code",
   "execution_count": 88,
   "id": "133bd5b3",
   "metadata": {},
   "outputs": [
    {
     "data": {
      "text/plain": [
       "id                0.000000\n",
       "nombre            0.000000\n",
       "costo             0.000000\n",
       "sid               1.242816\n",
       "pid               0.380747\n",
       "precio            1.406609\n",
       "disponibilidad    1.406609\n",
       "dtype: float64"
      ]
     },
     "execution_count": 88,
     "metadata": {},
     "output_type": "execute_result"
    }
   ],
   "source": [
    "get_null_data(raw_dfs[\"proveedores\"])"
   ]
  },
  {
   "cell_type": "code",
   "execution_count": 202,
   "id": "0d084a80",
   "metadata": {},
   "outputs": [],
   "source": [
    "proveedoresLimpios = raw_dfs[\"proveedores\"].loc[:,[\"id\",\"nombre\",\"costo\"]]\n",
    "proveedoresLimpios[['id']]=proveedoresLimpios[['id']].astype(int)\n",
    "proveedoresLimpios.drop_duplicates().sort_values(by=[\"id\"]).to_csv(\"data_limpia\\\\proveedores.csv\", index = False)"
   ]
  },
  {
   "cell_type": "code",
   "execution_count": 38,
   "metadata": {},
   "outputs": [
    {
     "name": "stdout",
     "output_type": "stream",
     "text": [
      "proveedor\n"
     ]
    }
   ],
   "source": [
    "proveedoresExtras =  raw_dfs[\"subscripciones\"].loc[:,[\"proveedor\"]].drop_duplicates()\n",
    "proveedores = raw_dfs[\"proveedores\"].loc[:,[\"nombre\"]].drop_duplicates()\n",
    "for proveedorExtra in proveedoresExtras:\n",
    "    if(proveedorExtra not in proveedores.values):\n",
    "        print(proveedorExtra)"
   ]
  },
  {
   "cell_type": "code",
   "execution_count": 8,
   "id": "c63f39d7",
   "metadata": {},
   "outputs": [],
   "source": [
    "pelicula_arriendo =  raw_dfs[\"proveedores\"].loc[pd.notna(raw_dfs[\"proveedores\"]['disponibilidad']),[\"id\",\"pid\",\"precio\",\"disponibilidad\"]]\n",
    "pelicula_arriendo.columns = [\"id_proveedor\",\"id_pelicula\",\"precio\",\"duracion_arriendo\"] \n",
    "pelicula_arriendo[['precio',\"duracion_arriendo\",\"id_pelicula\"]]=pelicula_arriendo[['precio',\"duracion_arriendo\",\"id_pelicula\"]].astype(int)\n",
    "pelicula_arriendo.drop_duplicates().sort_values(by=[\"id_proveedor\",\"id_pelicula\"]).reset_index(drop=True).to_csv(\"data_limpia\\\\pelicula_arriendo.csv\", index = False)\n"
   ]
  },
  {
   "cell_type": "code",
   "execution_count": 211,
   "id": "24045127",
   "metadata": {},
   "outputs": [],
   "source": [
    "serie_proveedor = drop_null_columns(raw_dfs[\"proveedores\"][~raw_dfs[\"proveedores\"][\"sid\"].isnull()])\n",
    "serie_proveedor.rename(columns={'id':'id_proveedor','sid':'id_serie'}, inplace=True)\n",
    "serie_proveedor[['id_serie']]=serie_proveedor[['id_serie']].astype(int)\n",
    "serie_proveedor = serie_proveedor[['id_proveedor','id_serie']]\n",
    "serie_proveedor.drop_duplicates().sort_values(by=[\"id_proveedor\",\"id_serie\"]).to_csv(\"data_limpia\\\\serie_proveedor.csv\", index = False)\n"
   ]
  },
  {
   "cell_type": "code",
   "execution_count": 213,
   "id": "67f1ea8e",
   "metadata": {},
   "outputs": [],
   "source": [
    "pelicula_proveedor = drop_null_columns(raw_dfs[\"proveedores\"][~raw_dfs[\"proveedores\"][\"pid\"].isnull()])\n",
    "\n",
    "pelicula_proveedor  = drop_null_columns(pelicula_proveedor[~pelicula_proveedor[\"precio\"].isnull()])\n",
    "\n",
    "pelicula_proveedor.rename(columns={'id':'id_proveedor','pid':'id_pelicula'}, inplace=True)\n",
    "pelicula_proveedor[['id_pelicula']]=pelicula_proveedor[['id_pelicula']].astype(int)\n",
    "pelicula_proveedor = pelicula_proveedor[['id_proveedor','id_pelicula']]\n",
    "pelicula_proveedor.drop_duplicates().sort_values(by=[\"id_proveedor\",\"id_pelicula\"]).to_csv(\"data_limpia\\\\pelicula_proveedor.csv\", index = False)\n"
   ]
  },
  {
   "cell_type": "code",
   "execution_count": 89,
   "id": "86487185",
   "metadata": {},
   "outputs": [
    {
     "data": {
      "text/plain": [
       "id               0.000000\n",
       "estado           0.000000\n",
       "fecha_inicio     0.000000\n",
       "pro_id           0.000000\n",
       "uid              0.000000\n",
       "fecha_termino    0.418103\n",
       "proveedor        0.000000\n",
       "costo            0.000000\n",
       "dtype: float64"
      ]
     },
     "execution_count": 89,
     "metadata": {},
     "output_type": "execute_result"
    }
   ],
   "source": [
    "get_null_data(raw_dfs[\"subscripciones\"])"
   ]
  },
  {
   "cell_type": "code",
   "execution_count": 44,
   "metadata": {},
   "outputs": [],
   "source": [
    "subscripciones = raw_dfs[\"subscripciones\"].drop(columns=['proveedor','costo','fecha_termino']).drop_duplicates()\n",
    "subscripciones.sort_values(by=[\"id\"]).to_csv(\"data_limpia\\\\subscripciones.csv\", index = False)"
   ]
  },
  {
   "cell_type": "code",
   "execution_count": 10,
   "metadata": {},
   "outputs": [],
   "source": [
    "subscripciones_canceladas = drop_null_columns(raw_dfs[\"subscripciones\"][raw_dfs[\"subscripciones\"][\"estado\"]=='cancelada'])\n",
    "\n",
    "subscripciones_canceladas = subscripciones_canceladas.drop(columns=['proveedor','costo']).drop_duplicates()\n",
    "subscripciones_canceladas.rename(columns={'id':'id_subscripcion','uid':'id_usuario','pro_id':'id_proveedor',}, inplace=True)\n",
    "subscripciones_canceladas.sort_values(by=[\"id_subscripcion\"]).to_csv(\"data_limpia\\\\subscripciones_canceladas.csv\", index = False)\n"
   ]
  },
  {
   "cell_type": "code",
   "execution_count": 90,
   "id": "2261b4a9",
   "metadata": {},
   "outputs": [
    {
     "data": {
      "text/plain": [
       "id          0.0\n",
       "nombre      0.0\n",
       "mail        0.0\n",
       "password    0.0\n",
       "username    0.0\n",
       "dtype: float64"
      ]
     },
     "execution_count": 90,
     "metadata": {},
     "output_type": "execute_result"
    }
   ],
   "source": [
    "get_null_data(raw_dfs[\"usuarios\"])"
   ]
  },
  {
   "cell_type": "code",
   "execution_count": null,
   "id": "095a7a20",
   "metadata": {},
   "outputs": [],
   "source": [
    "usuarios = raw_dfs[\"usuarios\"] \n",
    "usuarios.sort_values(by=[\"id\"]).to_csv(\"data_limpia\\\\usuarios.csv\", index = False)"
   ]
  },
  {
   "cell_type": "code",
   "execution_count": 121,
   "id": "e661c9cd",
   "metadata": {},
   "outputs": [
    {
     "data": {
      "text/plain": [
       "uid      0.000000\n",
       "pid      0.653107\n",
       "cid      0.346893\n",
       "fecha    0.000000\n",
       "dtype: float64"
      ]
     },
     "execution_count": 121,
     "metadata": {},
     "output_type": "execute_result"
    }
   ],
   "source": [
    "get_null_data(raw_dfs[\"visualizaciones\"])"
   ]
  },
  {
   "cell_type": "code",
   "execution_count": 126,
   "metadata": {},
   "outputs": [],
   "source": [
    "visualizaciones_peliculas = drop_null_columns(raw_dfs[\"visualizaciones\"][~raw_dfs[\"visualizaciones\"][\"pid\"].isnull()])\n",
    "visualizaciones_peliculas[['pid']]=visualizaciones_peliculas[['pid']].astype(int)\n",
    "visualizaciones_peliculas.sort_values(by=[\"uid\",\"fecha\",\"pid\"]).to_csv(\"data_limpia\\\\visualizaciones_peliculas.csv\", index = False)"
   ]
  },
  {
   "cell_type": "code",
   "execution_count": 128,
   "metadata": {},
   "outputs": [],
   "source": [
    "visualizaciones_capitulos = drop_null_columns(raw_dfs[\"visualizaciones\"][~raw_dfs[\"visualizaciones\"][\"cid\"].isnull()])\n",
    "visualizaciones_capitulos[['cid']]=visualizaciones_capitulos[['cid']].astype(int) \n",
    "visualizaciones_capitulos.sort_values(by=[\"uid\",\"fecha\",\"cid\"]).to_csv(\"data_limpia\\\\visualizaciones_capitulos.csv\", index = False)"
   ]
  }
 ],
 "metadata": {
  "interpreter": {
   "hash": "2031f9519a7c89e6e764d298a7cc2bf310f53fcc368717afac921416e61cc7f7"
  },
  "kernelspec": {
   "display_name": "Python 3.9.7 64-bit",
   "name": "python3"
  },
  "language_info": {
   "codemirror_mode": {
    "name": "ipython",
    "version": 3
   },
   "file_extension": ".py",
   "mimetype": "text/x-python",
   "name": "python",
   "nbconvert_exporter": "python",
   "pygments_lexer": "ipython3",
   "version": "3.9.7"
  }
 },
 "nbformat": 4,
 "nbformat_minor": 5
}
