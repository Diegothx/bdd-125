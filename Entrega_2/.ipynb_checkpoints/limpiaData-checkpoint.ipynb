{
 "cells": [
  {
   "cell_type": "code",
   "execution_count": 51,
   "id": "9964257e",
   "metadata": {},
   "outputs": [],
   "source": [
    "import pandas as pd"
   ]
  },
  {
   "cell_type": "code",
   "execution_count": 22,
   "id": "5da6f7af",
   "metadata": {},
   "outputs": [],
   "source": [
    "import numpy as np"
   ]
  },
  {
   "cell_type": "code",
   "execution_count": 2,
   "id": "c15e1296",
   "metadata": {},
   "outputs": [],
   "source": [
    "import os"
   ]
  },
  {
   "cell_type": "code",
   "execution_count": 50,
   "id": "86e9ed75",
   "metadata": {},
   "outputs": [],
   "source": [
    "def drop_null_columns(df):\n",
    "    new_df = df.copy()\n",
    "    for column, nulls in (new_df.isna().sum()/len(new_df)).to_dict().items():\n",
    "        if nulls==1:\n",
    "            new_df = new_df.drop(columns=[column])\n",
    "    return new_df"
   ]
  },
  {
   "cell_type": "code",
   "execution_count": 93,
   "id": "2e300a0b",
   "metadata": {},
   "outputs": [],
   "source": [
    "def get_null_data(df):\n",
    "    return df.isna().sum()/len(df)"
   ]
  },
  {
   "cell_type": "code",
   "execution_count": 52,
   "id": "1e63e383",
   "metadata": {},
   "outputs": [
    {
     "data": {
      "text/plain": [
       "['.DS_Store',\n",
       " 'genero_subgenero.csv',\n",
       " 'multimedia.csv',\n",
       " 'pagos_v2.csv',\n",
       " 'proveedores.csv',\n",
       " 'subscripciones.csv',\n",
       " 'usuarios.csv',\n",
       " 'visualizaciones.csv']"
      ]
     },
     "execution_count": 52,
     "metadata": {},
     "output_type": "execute_result"
    }
   ],
   "source": [
    "os.listdir(\"data_original\")"
   ]
  },
  {
   "cell_type": "code",
   "execution_count": 54,
   "id": "df1844bb",
   "metadata": {},
   "outputs": [],
   "source": [
    "raw_dfs = {}\n",
    "new_dfs = {}\n",
    "for file_name in os.listdir(\"data_original\"):\n",
    "    if \".csv\" in file_name:\n",
    "        raw_dfs[file_name[:-4]] = pd.read_csv(f\"data_original\\\\{file_name}\")"
   ]
  },
  {
   "cell_type": "code",
   "execution_count": 34,
   "id": "30e0abc4",
   "metadata": {},
   "outputs": [
    {
     "data": {
      "text/plain": [
       "dict_keys(['genero_subgenero', 'multimedia', 'pagos_v2', 'proveedores', 'subscripciones', 'usuarios', 'visualizaciones'])"
      ]
     },
     "execution_count": 34,
     "metadata": {},
     "output_type": "execute_result"
    }
   ],
   "source": [
    "raw_dfs.keys()"
   ]
  },
  {
   "cell_type": "code",
   "execution_count": 36,
   "id": "e08af52a",
   "metadata": {},
   "outputs": [
    {
     "data": {
      "text/html": [
       "<div>\n",
       "<style scoped>\n",
       "    .dataframe tbody tr th:only-of-type {\n",
       "        vertical-align: middle;\n",
       "    }\n",
       "\n",
       "    .dataframe tbody tr th {\n",
       "        vertical-align: top;\n",
       "    }\n",
       "\n",
       "    .dataframe thead th {\n",
       "        text-align: right;\n",
       "    }\n",
       "</style>\n",
       "<table border=\"1\" class=\"dataframe\">\n",
       "  <thead>\n",
       "    <tr style=\"text-align: right;\">\n",
       "      <th></th>\n",
       "      <th>pid</th>\n",
       "      <th>sid</th>\n",
       "      <th>cid</th>\n",
       "      <th>titulo</th>\n",
       "      <th>duracion</th>\n",
       "      <th>clasificacion</th>\n",
       "      <th>puntuacion</th>\n",
       "      <th>año</th>\n",
       "      <th>numero</th>\n",
       "      <th>serie</th>\n",
       "      <th>genero</th>\n",
       "    </tr>\n",
       "  </thead>\n",
       "  <tbody>\n",
       "    <tr>\n",
       "      <th>0</th>\n",
       "      <td>NaN</td>\n",
       "      <td>1.0</td>\n",
       "      <td>2.0</td>\n",
       "      <td>Episode 2</td>\n",
       "      <td>66</td>\n",
       "      <td>R</td>\n",
       "      <td>8.0</td>\n",
       "      <td>2019</td>\n",
       "      <td>1.0</td>\n",
       "      <td>Sex Education</td>\n",
       "      <td>Drama</td>\n",
       "    </tr>\n",
       "    <tr>\n",
       "      <th>1</th>\n",
       "      <td>74.0</td>\n",
       "      <td>NaN</td>\n",
       "      <td>NaN</td>\n",
       "      <td>The Boxtrolls</td>\n",
       "      <td>96</td>\n",
       "      <td>NC-17</td>\n",
       "      <td>1.0</td>\n",
       "      <td>2014</td>\n",
       "      <td>NaN</td>\n",
       "      <td>NaN</td>\n",
       "      <td>Comedia</td>\n",
       "    </tr>\n",
       "    <tr>\n",
       "      <th>2</th>\n",
       "      <td>6.0</td>\n",
       "      <td>NaN</td>\n",
       "      <td>NaN</td>\n",
       "      <td>Fahrenheit 451</td>\n",
       "      <td>100</td>\n",
       "      <td>G</td>\n",
       "      <td>3.0</td>\n",
       "      <td>2018</td>\n",
       "      <td>NaN</td>\n",
       "      <td>NaN</td>\n",
       "      <td>Ciencia ficción apocalíptica</td>\n",
       "    </tr>\n",
       "    <tr>\n",
       "      <th>3</th>\n",
       "      <td>NaN</td>\n",
       "      <td>20.0</td>\n",
       "      <td>124.0</td>\n",
       "      <td>Las aventuras de Supergirl</td>\n",
       "      <td>40</td>\n",
       "      <td>G</td>\n",
       "      <td>6.4</td>\n",
       "      <td>2015</td>\n",
       "      <td>2.0</td>\n",
       "      <td>Supergirl</td>\n",
       "      <td>Ciencia ficción</td>\n",
       "    </tr>\n",
       "    <tr>\n",
       "      <th>4</th>\n",
       "      <td>NaN</td>\n",
       "      <td>4.0</td>\n",
       "      <td>63.0</td>\n",
       "      <td>El viajero</td>\n",
       "      <td>20</td>\n",
       "      <td>PG-13</td>\n",
       "      <td>9.8</td>\n",
       "      <td>2007</td>\n",
       "      <td>7.0</td>\n",
       "      <td>Naruto Shippuden</td>\n",
       "      <td>Aventura</td>\n",
       "    </tr>\n",
       "  </tbody>\n",
       "</table>\n",
       "</div>"
      ],
      "text/plain": [
       "    pid   sid    cid                      titulo  duracion clasificacion  \\\n",
       "0   NaN   1.0    2.0                   Episode 2        66             R   \n",
       "1  74.0   NaN    NaN               The Boxtrolls        96         NC-17   \n",
       "2   6.0   NaN    NaN              Fahrenheit 451       100             G   \n",
       "3   NaN  20.0  124.0  Las aventuras de Supergirl        40             G   \n",
       "4   NaN   4.0   63.0                  El viajero        20         PG-13   \n",
       "\n",
       "   puntuacion   año  numero             serie                        genero  \n",
       "0         8.0  2019     1.0     Sex Education                         Drama  \n",
       "1         1.0  2014     NaN               NaN                       Comedia  \n",
       "2         3.0  2018     NaN               NaN  Ciencia ficción apocalíptica  \n",
       "3         6.4  2015     2.0         Supergirl               Ciencia ficción  \n",
       "4         9.8  2007     7.0  Naruto Shippuden                      Aventura  "
      ]
     },
     "execution_count": 36,
     "metadata": {},
     "output_type": "execute_result"
    }
   ],
   "source": [
    "raw_dfs[\"multimedia\"].head()"
   ]
  },
  {
   "cell_type": "code",
   "execution_count": 95,
   "id": "aa3068d2",
   "metadata": {
    "scrolled": true
   },
   "outputs": [
    {
     "data": {
      "text/plain": [
       "genero              0.00\n",
       "nombre_subgenero    0.75\n",
       "dtype: float64"
      ]
     },
     "execution_count": 95,
     "metadata": {},
     "output_type": "execute_result"
    }
   ],
   "source": [
    "get_null_data(raw_dfs[\"genero_subgenero\"])"
   ]
  },
  {
   "cell_type": "code",
   "execution_count": 86,
   "id": "f6f3aa39",
   "metadata": {},
   "outputs": [
    {
     "data": {
      "text/plain": [
       "pid              0.400885\n",
       "sid              0.215044\n",
       "cid              0.215044\n",
       "titulo           0.000000\n",
       "duracion         0.000000\n",
       "clasificacion    0.000000\n",
       "puntuacion       0.000000\n",
       "año              0.000000\n",
       "numero           0.215044\n",
       "serie            0.215044\n",
       "genero           0.002655\n",
       "dtype: float64"
      ]
     },
     "execution_count": 86,
     "metadata": {},
     "output_type": "execute_result"
    }
   ],
   "source": [
    "get_null_data(raw_dfs[\"multimedia\"])"
   ]
  },
  {
   "cell_type": "code",
   "execution_count": null,
   "id": "a5f64fdb",
   "metadata": {},
   "outputs": [],
   "source": [
    "peliculas = drop_null_columns(raw_dfs[\"multimedia\"][~raw_dfs[\"multimedia\"][\"pid\"].isnull()])\n",
    "peliculas.rename(columns={'pid':'id'}, inplace=True)\n",
    "peliculas[['id']]=peliculas[['id']].astype(int)\n",
    "peliculas.drop(['genero'], axis=1).drop_duplicates().sort_values(by=[\"id\"]).to_csv(\"data_limpia\\\\peliculas.csv\", index = False)"
   ]
  },
  {
   "cell_type": "code",
   "execution_count": null,
   "id": "c618f7eb",
   "metadata": {},
   "outputs": [],
   "source": [
    "peliculas = drop_null_columns(raw_dfs[\"multimedia\"][~raw_dfs[\"multimedia\"][\"pid\"].isnull()])\n",
    "peliculas.rename(columns={'pid':'id_pelicula'}, inplace=True)\n",
    "peliculas.drop(['titulo','duracion','clasificacion','puntuacion','año'], axis=1).drop_duplicates().sort_values(by=[\"id_pelicula\"]).to_csv(\"data_limpia\\\\peliculas_genero.csv\", index = False)\n"
   ]
  },
  {
   "cell_type": "code",
   "execution_count": 97,
   "id": "4454ee19",
   "metadata": {},
   "outputs": [],
   "source": [
    "series = drop_null_columns(raw_dfs[\"multimedia\"][~raw_dfs[\"multimedia\"][\"sid\"].isnull()])\n",
    "series.rename(columns={'serie':'nombre','sid':'id'}, inplace=True)\n",
    "series[['id']]=series[['id']].astype(int)\n",
    "series.drop(['cid','numero','duracion','titulo','genero'], axis=1).drop_duplicates().sort_values(by=[\"id\"]).to_csv(\"data_limpia\\\\series.csv\", index = False)"
   ]
  },
  {
   "cell_type": "code",
   "execution_count": 99,
   "id": "78724047",
   "metadata": {},
   "outputs": [
    {
     "ename": "KeyError",
     "evalue": "\"['nombre'] not found in axis\"",
     "output_type": "error",
     "traceback": [
      "\u001b[1;31m---------------------------------------------------------------------------\u001b[0m",
      "\u001b[1;31mKeyError\u001b[0m                                  Traceback (most recent call last)",
      "\u001b[1;32m~\\AppData\\Local\\Temp/ipykernel_28612/289215540.py\u001b[0m in \u001b[0;36m<module>\u001b[1;34m\u001b[0m\n\u001b[0;32m      1\u001b[0m \u001b[0mseries\u001b[0m \u001b[1;33m=\u001b[0m \u001b[0mdrop_null_columns\u001b[0m\u001b[1;33m(\u001b[0m\u001b[0mraw_dfs\u001b[0m\u001b[1;33m[\u001b[0m\u001b[1;34m\"multimedia\"\u001b[0m\u001b[1;33m]\u001b[0m\u001b[1;33m[\u001b[0m\u001b[1;33m~\u001b[0m\u001b[0mraw_dfs\u001b[0m\u001b[1;33m[\u001b[0m\u001b[1;34m\"multimedia\"\u001b[0m\u001b[1;33m]\u001b[0m\u001b[1;33m[\u001b[0m\u001b[1;34m\"pid\"\u001b[0m\u001b[1;33m]\u001b[0m\u001b[1;33m.\u001b[0m\u001b[0misnull\u001b[0m\u001b[1;33m(\u001b[0m\u001b[1;33m)\u001b[0m\u001b[1;33m]\u001b[0m\u001b[1;33m)\u001b[0m\u001b[1;33m\u001b[0m\u001b[1;33m\u001b[0m\u001b[0m\n\u001b[0;32m      2\u001b[0m \u001b[0mseries\u001b[0m\u001b[1;33m.\u001b[0m\u001b[0mrename\u001b[0m\u001b[1;33m(\u001b[0m\u001b[0mcolumns\u001b[0m\u001b[1;33m=\u001b[0m\u001b[1;33m{\u001b[0m\u001b[1;34m'sid'\u001b[0m\u001b[1;33m:\u001b[0m\u001b[1;34m'id_serie'\u001b[0m\u001b[1;33m}\u001b[0m\u001b[1;33m,\u001b[0m \u001b[0minplace\u001b[0m\u001b[1;33m=\u001b[0m\u001b[1;32mTrue\u001b[0m\u001b[1;33m)\u001b[0m\u001b[1;33m\u001b[0m\u001b[1;33m\u001b[0m\u001b[0m\n\u001b[1;32m----> 3\u001b[1;33m \u001b[0mseries\u001b[0m\u001b[1;33m.\u001b[0m\u001b[0mdrop\u001b[0m\u001b[1;33m(\u001b[0m\u001b[1;33m[\u001b[0m\u001b[1;34m'clasificacion'\u001b[0m\u001b[1;33m,\u001b[0m\u001b[1;34m'puntuacion'\u001b[0m\u001b[1;33m,\u001b[0m\u001b[1;34m'año'\u001b[0m\u001b[1;33m,\u001b[0m\u001b[1;34m'nombre'\u001b[0m\u001b[1;33m]\u001b[0m\u001b[1;33m,\u001b[0m \u001b[0maxis\u001b[0m\u001b[1;33m=\u001b[0m\u001b[1;36m1\u001b[0m\u001b[1;33m)\u001b[0m\u001b[1;33m.\u001b[0m\u001b[0mdrop_duplicates\u001b[0m\u001b[1;33m(\u001b[0m\u001b[1;33m)\u001b[0m\u001b[1;33m.\u001b[0m\u001b[0msort_values\u001b[0m\u001b[1;33m(\u001b[0m\u001b[0mby\u001b[0m\u001b[1;33m=\u001b[0m\u001b[1;33m[\u001b[0m\u001b[1;34m\"id_serie\"\u001b[0m\u001b[1;33m]\u001b[0m\u001b[1;33m)\u001b[0m\u001b[1;33m.\u001b[0m\u001b[0mto_csv\u001b[0m\u001b[1;33m(\u001b[0m\u001b[1;34m\"data_limpia\\\\series_genero.csv\"\u001b[0m\u001b[1;33m,\u001b[0m \u001b[0mindex\u001b[0m \u001b[1;33m=\u001b[0m \u001b[1;32mFalse\u001b[0m\u001b[1;33m)\u001b[0m\u001b[1;33m\u001b[0m\u001b[1;33m\u001b[0m\u001b[0m\n\u001b[0m",
      "\u001b[1;32m~\\AppData\\Local\\Programs\\Python\\Python39\\lib\\site-packages\\pandas\\util\\_decorators.py\u001b[0m in \u001b[0;36mwrapper\u001b[1;34m(*args, **kwargs)\u001b[0m\n\u001b[0;32m    309\u001b[0m                     \u001b[0mstacklevel\u001b[0m\u001b[1;33m=\u001b[0m\u001b[0mstacklevel\u001b[0m\u001b[1;33m,\u001b[0m\u001b[1;33m\u001b[0m\u001b[1;33m\u001b[0m\u001b[0m\n\u001b[0;32m    310\u001b[0m                 )\n\u001b[1;32m--> 311\u001b[1;33m             \u001b[1;32mreturn\u001b[0m \u001b[0mfunc\u001b[0m\u001b[1;33m(\u001b[0m\u001b[1;33m*\u001b[0m\u001b[0margs\u001b[0m\u001b[1;33m,\u001b[0m \u001b[1;33m**\u001b[0m\u001b[0mkwargs\u001b[0m\u001b[1;33m)\u001b[0m\u001b[1;33m\u001b[0m\u001b[1;33m\u001b[0m\u001b[0m\n\u001b[0m\u001b[0;32m    312\u001b[0m \u001b[1;33m\u001b[0m\u001b[0m\n\u001b[0;32m    313\u001b[0m         \u001b[1;32mreturn\u001b[0m \u001b[0mwrapper\u001b[0m\u001b[1;33m\u001b[0m\u001b[1;33m\u001b[0m\u001b[0m\n",
      "\u001b[1;32m~\\AppData\\Local\\Programs\\Python\\Python39\\lib\\site-packages\\pandas\\core\\frame.py\u001b[0m in \u001b[0;36mdrop\u001b[1;34m(self, labels, axis, index, columns, level, inplace, errors)\u001b[0m\n\u001b[0;32m   4904\u001b[0m                 \u001b[0mweight\u001b[0m  \u001b[1;36m1.0\u001b[0m     \u001b[1;36m0.8\u001b[0m\u001b[1;33m\u001b[0m\u001b[1;33m\u001b[0m\u001b[0m\n\u001b[0;32m   4905\u001b[0m         \"\"\"\n\u001b[1;32m-> 4906\u001b[1;33m         return super().drop(\n\u001b[0m\u001b[0;32m   4907\u001b[0m             \u001b[0mlabels\u001b[0m\u001b[1;33m=\u001b[0m\u001b[0mlabels\u001b[0m\u001b[1;33m,\u001b[0m\u001b[1;33m\u001b[0m\u001b[1;33m\u001b[0m\u001b[0m\n\u001b[0;32m   4908\u001b[0m             \u001b[0maxis\u001b[0m\u001b[1;33m=\u001b[0m\u001b[0maxis\u001b[0m\u001b[1;33m,\u001b[0m\u001b[1;33m\u001b[0m\u001b[1;33m\u001b[0m\u001b[0m\n",
      "\u001b[1;32m~\\AppData\\Local\\Programs\\Python\\Python39\\lib\\site-packages\\pandas\\core\\generic.py\u001b[0m in \u001b[0;36mdrop\u001b[1;34m(self, labels, axis, index, columns, level, inplace, errors)\u001b[0m\n\u001b[0;32m   4148\u001b[0m         \u001b[1;32mfor\u001b[0m \u001b[0maxis\u001b[0m\u001b[1;33m,\u001b[0m \u001b[0mlabels\u001b[0m \u001b[1;32min\u001b[0m \u001b[0maxes\u001b[0m\u001b[1;33m.\u001b[0m\u001b[0mitems\u001b[0m\u001b[1;33m(\u001b[0m\u001b[1;33m)\u001b[0m\u001b[1;33m:\u001b[0m\u001b[1;33m\u001b[0m\u001b[1;33m\u001b[0m\u001b[0m\n\u001b[0;32m   4149\u001b[0m             \u001b[1;32mif\u001b[0m \u001b[0mlabels\u001b[0m \u001b[1;32mis\u001b[0m \u001b[1;32mnot\u001b[0m \u001b[1;32mNone\u001b[0m\u001b[1;33m:\u001b[0m\u001b[1;33m\u001b[0m\u001b[1;33m\u001b[0m\u001b[0m\n\u001b[1;32m-> 4150\u001b[1;33m                 \u001b[0mobj\u001b[0m \u001b[1;33m=\u001b[0m \u001b[0mobj\u001b[0m\u001b[1;33m.\u001b[0m\u001b[0m_drop_axis\u001b[0m\u001b[1;33m(\u001b[0m\u001b[0mlabels\u001b[0m\u001b[1;33m,\u001b[0m \u001b[0maxis\u001b[0m\u001b[1;33m,\u001b[0m \u001b[0mlevel\u001b[0m\u001b[1;33m=\u001b[0m\u001b[0mlevel\u001b[0m\u001b[1;33m,\u001b[0m \u001b[0merrors\u001b[0m\u001b[1;33m=\u001b[0m\u001b[0merrors\u001b[0m\u001b[1;33m)\u001b[0m\u001b[1;33m\u001b[0m\u001b[1;33m\u001b[0m\u001b[0m\n\u001b[0m\u001b[0;32m   4151\u001b[0m \u001b[1;33m\u001b[0m\u001b[0m\n\u001b[0;32m   4152\u001b[0m         \u001b[1;32mif\u001b[0m \u001b[0minplace\u001b[0m\u001b[1;33m:\u001b[0m\u001b[1;33m\u001b[0m\u001b[1;33m\u001b[0m\u001b[0m\n",
      "\u001b[1;32m~\\AppData\\Local\\Programs\\Python\\Python39\\lib\\site-packages\\pandas\\core\\generic.py\u001b[0m in \u001b[0;36m_drop_axis\u001b[1;34m(self, labels, axis, level, errors)\u001b[0m\n\u001b[0;32m   4183\u001b[0m                 \u001b[0mnew_axis\u001b[0m \u001b[1;33m=\u001b[0m \u001b[0maxis\u001b[0m\u001b[1;33m.\u001b[0m\u001b[0mdrop\u001b[0m\u001b[1;33m(\u001b[0m\u001b[0mlabels\u001b[0m\u001b[1;33m,\u001b[0m \u001b[0mlevel\u001b[0m\u001b[1;33m=\u001b[0m\u001b[0mlevel\u001b[0m\u001b[1;33m,\u001b[0m \u001b[0merrors\u001b[0m\u001b[1;33m=\u001b[0m\u001b[0merrors\u001b[0m\u001b[1;33m)\u001b[0m\u001b[1;33m\u001b[0m\u001b[1;33m\u001b[0m\u001b[0m\n\u001b[0;32m   4184\u001b[0m             \u001b[1;32melse\u001b[0m\u001b[1;33m:\u001b[0m\u001b[1;33m\u001b[0m\u001b[1;33m\u001b[0m\u001b[0m\n\u001b[1;32m-> 4185\u001b[1;33m                 \u001b[0mnew_axis\u001b[0m \u001b[1;33m=\u001b[0m \u001b[0maxis\u001b[0m\u001b[1;33m.\u001b[0m\u001b[0mdrop\u001b[0m\u001b[1;33m(\u001b[0m\u001b[0mlabels\u001b[0m\u001b[1;33m,\u001b[0m \u001b[0merrors\u001b[0m\u001b[1;33m=\u001b[0m\u001b[0merrors\u001b[0m\u001b[1;33m)\u001b[0m\u001b[1;33m\u001b[0m\u001b[1;33m\u001b[0m\u001b[0m\n\u001b[0m\u001b[0;32m   4186\u001b[0m             \u001b[0mresult\u001b[0m \u001b[1;33m=\u001b[0m \u001b[0mself\u001b[0m\u001b[1;33m.\u001b[0m\u001b[0mreindex\u001b[0m\u001b[1;33m(\u001b[0m\u001b[1;33m**\u001b[0m\u001b[1;33m{\u001b[0m\u001b[0maxis_name\u001b[0m\u001b[1;33m:\u001b[0m \u001b[0mnew_axis\u001b[0m\u001b[1;33m}\u001b[0m\u001b[1;33m)\u001b[0m\u001b[1;33m\u001b[0m\u001b[1;33m\u001b[0m\u001b[0m\n\u001b[0;32m   4187\u001b[0m \u001b[1;33m\u001b[0m\u001b[0m\n",
      "\u001b[1;32m~\\AppData\\Local\\Programs\\Python\\Python39\\lib\\site-packages\\pandas\\core\\indexes\\base.py\u001b[0m in \u001b[0;36mdrop\u001b[1;34m(self, labels, errors)\u001b[0m\n\u001b[0;32m   6015\u001b[0m         \u001b[1;32mif\u001b[0m \u001b[0mmask\u001b[0m\u001b[1;33m.\u001b[0m\u001b[0many\u001b[0m\u001b[1;33m(\u001b[0m\u001b[1;33m)\u001b[0m\u001b[1;33m:\u001b[0m\u001b[1;33m\u001b[0m\u001b[1;33m\u001b[0m\u001b[0m\n\u001b[0;32m   6016\u001b[0m             \u001b[1;32mif\u001b[0m \u001b[0merrors\u001b[0m \u001b[1;33m!=\u001b[0m \u001b[1;34m\"ignore\"\u001b[0m\u001b[1;33m:\u001b[0m\u001b[1;33m\u001b[0m\u001b[1;33m\u001b[0m\u001b[0m\n\u001b[1;32m-> 6017\u001b[1;33m                 \u001b[1;32mraise\u001b[0m \u001b[0mKeyError\u001b[0m\u001b[1;33m(\u001b[0m\u001b[1;34mf\"{labels[mask]} not found in axis\"\u001b[0m\u001b[1;33m)\u001b[0m\u001b[1;33m\u001b[0m\u001b[1;33m\u001b[0m\u001b[0m\n\u001b[0m\u001b[0;32m   6018\u001b[0m             \u001b[0mindexer\u001b[0m \u001b[1;33m=\u001b[0m \u001b[0mindexer\u001b[0m\u001b[1;33m[\u001b[0m\u001b[1;33m~\u001b[0m\u001b[0mmask\u001b[0m\u001b[1;33m]\u001b[0m\u001b[1;33m\u001b[0m\u001b[1;33m\u001b[0m\u001b[0m\n\u001b[0;32m   6019\u001b[0m         \u001b[1;32mreturn\u001b[0m \u001b[0mself\u001b[0m\u001b[1;33m.\u001b[0m\u001b[0mdelete\u001b[0m\u001b[1;33m(\u001b[0m\u001b[0mindexer\u001b[0m\u001b[1;33m)\u001b[0m\u001b[1;33m\u001b[0m\u001b[1;33m\u001b[0m\u001b[0m\n",
      "\u001b[1;31mKeyError\u001b[0m: \"['nombre'] not found in axis\""
     ]
    }
   ],
   "source": [
    "series = drop_null_columns(raw_dfs[\"multimedia\"][~raw_dfs[\"multimedia\"][\"pid\"].isnull()])\n",
    "series.rename(columns={'sid':'id_serie'}, inplace=True)\n",
    "series.drop(['clasificacion','puntuacion','año','nombre'], axis=1).drop_duplicates().sort_values(by=[\"id_serie\"]).to_csv(\"data_limpia\\\\series_genero.csv\", index = False)\n"
   ]
  },
  {
   "cell_type": "code",
   "execution_count": null,
   "id": "c8a685b3",
   "metadata": {},
   "outputs": [],
   "source": [
    "capitulos =  drop_null_columns(raw_dfs[\"multimedia\"][~raw_dfs[\"multimedia\"][\"cid\"].isnull()])\n",
    "capitulos.rename(columns={'cid':'id','sid':'serie_id'}, inplace=True)\n",
    "capitulos[['serie_id','id','numero']]=capitulos[['serie_id','id','numero']].astype(int)\n",
    "capitulos = capitulos[['id','serie_id','titulo','duracion','numero','serie']]\n",
    "capitulos.drop_duplicates().sort_values(by=[\"id\"]).to_csv(\"data_limpia\\\\capitulos.csv\", index = False)"
   ]
  },
  {
   "cell_type": "code",
   "execution_count": 87,
   "id": "c5ce761d",
   "metadata": {},
   "outputs": [
    {
     "data": {
      "text/plain": [
       "pago_id    0.000000\n",
       "monto      0.000000\n",
       "fecha      0.000000\n",
       "uid        0.000000\n",
       "subs_id    0.544540\n",
       "pid        5.744253\n",
       "pro_id     5.744253\n",
       "dtype: float64"
      ]
     },
     "execution_count": 87,
     "metadata": {},
     "output_type": "execute_result"
    }
   ],
   "source": [
    "get_null_data(raw_dfs[\"pagos_v2\"])"
   ]
  },
  {
   "cell_type": "code",
   "execution_count": 88,
   "id": "bff7b716",
   "metadata": {},
   "outputs": [
    {
     "data": {
      "text/plain": [
       "id                0.000000\n",
       "nombre            0.000000\n",
       "costo             0.000000\n",
       "sid               1.242816\n",
       "pid               0.380747\n",
       "precio            1.406609\n",
       "disponibilidad    1.406609\n",
       "dtype: float64"
      ]
     },
     "execution_count": 88,
     "metadata": {},
     "output_type": "execute_result"
    }
   ],
   "source": [
    "get_null_data(raw_dfs[\"proveedores\"])"
   ]
  },
  {
   "cell_type": "code",
   "execution_count": 89,
   "id": "83db700a",
   "metadata": {},
   "outputs": [
    {
     "data": {
      "text/plain": [
       "id               0.000000\n",
       "estado           0.000000\n",
       "fecha_inicio     0.000000\n",
       "pro_id           0.000000\n",
       "uid              0.000000\n",
       "fecha_termino    0.418103\n",
       "proveedor        0.000000\n",
       "costo            0.000000\n",
       "dtype: float64"
      ]
     },
     "execution_count": 89,
     "metadata": {},
     "output_type": "execute_result"
    }
   ],
   "source": [
    "get_null_data(raw_dfs[\"subscripciones\"])"
   ]
  },
  {
   "cell_type": "code",
   "execution_count": 90,
   "id": "1e595318",
   "metadata": {},
   "outputs": [
    {
     "data": {
      "text/plain": [
       "id          0.0\n",
       "nombre      0.0\n",
       "mail        0.0\n",
       "password    0.0\n",
       "username    0.0\n",
       "dtype: float64"
      ]
     },
     "execution_count": 90,
     "metadata": {},
     "output_type": "execute_result"
    }
   ],
   "source": [
    "get_null_data(raw_dfs[\"usuarios\"])"
   ]
  },
  {
   "cell_type": "code",
   "execution_count": null,
   "id": "342056a2",
   "metadata": {},
   "outputs": [],
   "source": [
    "usuarios = raw_dfs[\"usuarios\"] \n",
    "usuarios.sort_values(by=[\"id\"]).to_csv(\"data_limpia\\\\usuarios.csv\", index = False)"
   ]
  },
  {
   "cell_type": "code",
   "execution_count": 96,
   "id": "930f0062",
   "metadata": {},
   "outputs": [
    {
     "data": {
      "text/plain": [
       "uid      0.000000\n",
       "pid      0.653107\n",
       "cid      0.346893\n",
       "fecha    0.000000\n",
       "dtype: float64"
      ]
     },
     "execution_count": 96,
     "metadata": {},
     "output_type": "execute_result"
    }
   ],
   "source": [
    "get_null_data(raw_dfs[\"visualizaciones\"])"
   ]
  }
 ],
 "metadata": {
  "kernelspec": {
   "display_name": "Python 3 (ipykernel)",
   "language": "python",
   "name": "python3"
  },
  "language_info": {
   "codemirror_mode": {
    "name": "ipython",
    "version": 3
   },
   "file_extension": ".py",
   "mimetype": "text/x-python",
   "name": "python",
   "nbconvert_exporter": "python",
   "pygments_lexer": "ipython3",
   "version": "3.9.7"
  }
 },
 "nbformat": 4,
 "nbformat_minor": 5
}
